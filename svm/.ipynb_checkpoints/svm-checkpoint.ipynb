{
 "cells": [
  {
   "cell_type": "code",
   "execution_count": 1,
   "metadata": {},
   "outputs": [],
   "source": [
    "import warnings\n",
    "warnings.filterwarnings(\"ignore\")\n",
    "\n",
    "import os\n",
    "import numpy as np\n",
    "import cv2\n",
    "import matplotlib.pyplot as plt\n",
    "import pickle\n",
    "import sklearn\n",
    "\n",
    "from scipy.spatial.distance import cdist\n",
    "from sklearn.model_selection import GridSearchCV\n",
    "from sklearn.svm import SVC\n",
    "from skimage.util import random_noise\n",
    "from sklearn.cluster import KMeans\n",
    "# from sklearn import metrics\n",
    "# from sklearn.metrics import confusion_matrix"
   ]
  },
  {
   "cell_type": "code",
   "execution_count": 2,
   "metadata": {},
   "outputs": [],
   "source": [
    "svm_NUM_DICT = {'0':0, '1':1, '2':2, '3':3, '4':4, '5': 5, '6':6, '7':7, '8':8, '9':9}\n",
    "svm_ALPHA_DICT = {'A': ord('A'), 'B': ord('B'), 'C':ord('C'), 'D': ord('D'), 'E': ord('E'),\n",
    "                  'F': ord('F'), 'G': ord('G'), 'H':ord('H'), 'K': ord('K'), 'L': ord('L'),\n",
    "                  'M': ord('M'), 'N': ord('N'), 'P':ord('P'), 'R': ord('R'), 'S': ord('S'),\n",
    "                  'T': ord('T'), 'U': ord('U'), 'V': ord('V'), 'X':ord('X'), 'Y': ord('Y'), \n",
    "                  'Z': ord('Z')\n",
    "                 }"
   ]
  },
  {
   "cell_type": "code",
   "execution_count": 3,
   "metadata": {},
   "outputs": [],
   "source": [
    "svm_num_clusters = 150\n",
    "\n",
    "svm_num_BoW = pickle.load(open('num_dictionary.pkl', 'rb'))\n",
    "svm_num_pkl_filename = \"num_pickle_model.pkl\"\n",
    "svm_num_loaded_model = pickle.load(open(svm_num_pkl_filename, 'rb'))\n",
    "\n",
    "svm_alpha_BoW = pickle.load(open('alpha_dictionary.pkl', 'rb'))\n",
    "svm_alpha_pkl_filename = \"alpha_pickle_model.pkl\"\n",
    "svm_alpha_loaded_model = pickle.load(open(svm_alpha_pkl_filename, 'rb'))"
   ]
  },
  {
   "cell_type": "code",
   "execution_count": 4,
   "metadata": {},
   "outputs": [],
   "source": [
    "def svm_predict(images, isnum):\n",
    "    def extract_sift_features(X):\n",
    "        image_descriptors = []\n",
    "        sift = cv2.SIFT_create()\n",
    "        for i in range(len(X)):\n",
    "            kp, des = sift.detectAndCompute(X[i], None)\n",
    "            image_descriptors.append(des)\n",
    "        return image_descriptors\n",
    "    \n",
    "    def create_features_bow(image_descriptors, BoW, num_clusters):\n",
    "        X_features = []\n",
    "        for i in range(len(image_descriptors)):\n",
    "            features = np.array([0] * num_clusters)\n",
    "            if image_descriptors[i] is not None:\n",
    "                distance = cdist(image_descriptors[i], BoW)\n",
    "                argmin = np.argmin(distance, axis=1)   \n",
    "                for j in argmin:\n",
    "                    features[j] += 1\n",
    "            X_features.append(features)\n",
    "        return X_features\n",
    "\n",
    "    number_plate = []\n",
    "    for i,img in enumerate(images):\n",
    "        X = [img]\n",
    "        if isnum[i]:\n",
    "            BoW = svm_num_BoW\n",
    "            model = svm_num_loaded_model\n",
    "            dic = svm_NUM_DICT\n",
    "        else:\n",
    "            BoW = svm_alpha_BoW\n",
    "            model = svm_alpha_loaded_model\n",
    "            dic = svm_ALPHA_DICT\n",
    "            \n",
    "        image_descriptors = None\n",
    "        X_features = None\n",
    "        image_descriptors = extract_sift_features(X)\n",
    "        X_features = create_features_bow(image_descriptors, BoW, num_clusters)\n",
    "        number_plate.append(list(dic.keys())[list(dic.values()).index(model.predict(X_features))])\n",
    "    return number_plate\n",
    "\n",
    "# img = load_image('num/7/0_0118_00754_b.jpg.jpg')\n",
    "# my_X = [img]\n",
    "\n",
    "# my_image_descriptors = None\n",
    "# my_X_features = None\n",
    "\n",
    "# my_image_descriptors = extract_sift_features(my_X)\n",
    "# my_X_features = create_features_bow(my_image_descriptors, BoW, num_clusters)\n",
    "\n",
    "# loaded_model.predict(my_X_features)"
   ]
  }
 ],
 "metadata": {
  "kernelspec": {
   "display_name": "Python 3",
   "language": "python",
   "name": "python3"
  },
  "language_info": {
   "codemirror_mode": {
    "name": "ipython",
    "version": 3
   },
   "file_extension": ".py",
   "mimetype": "text/x-python",
   "name": "python",
   "nbconvert_exporter": "python",
   "pygments_lexer": "ipython3",
   "version": "3.8.3"
  }
 },
 "nbformat": 4,
 "nbformat_minor": 4
}
